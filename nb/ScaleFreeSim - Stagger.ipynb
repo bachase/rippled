{
 "cells": [
  {
   "cell_type": "code",
   "execution_count": 21,
   "metadata": {
    "collapsed": true
   },
   "outputs": [],
   "source": [
    "%matplotlib inline\n",
    "import pandas as pd\n",
    "import numpy as np\n",
    "import matplotlib.pyplot as plt\n",
    "import glob\n",
    "import re\n",
    "plt.style.use('ggplot')"
   ]
  },
  {
   "cell_type": "markdown",
   "metadata": {},
   "source": [
    "### ForwardProgress vs NetSize"
   ]
  },
  {
   "cell_type": "code",
   "execution_count": 28,
   "metadata": {},
   "outputs": [],
   "source": [
    "runs = []\n",
    "for file in glob.iglob(\"./data/fProgress.delay*.size*trial.*.csv\"):\n",
    "    trial = re.search(r\"trial\\.([0-9]+)\", file).group(1)\n",
    "    data = pd.read_csv(file)\n",
    "    data['Trial'] = int(trial)\n",
    "    runs.append(data)\n",
    "runs = pd.concat(runs, ignore_index = True)"
   ]
  },
  {
   "cell_type": "code",
   "execution_count": 102,
   "metadata": {},
   "outputs": [
    {
     "data": {
      "text/plain": [
       "[<matplotlib.lines.Line2D at 0x1d3c6846780>]"
      ]
     },
     "execution_count": 102,
     "metadata": {},
     "output_type": "execute_result"
    },
    {
     "data": {
      "image/png": "[encoded data removed]",
      "text/plain": [
       "<matplotlib.figure.Figure at 0x1d3c6846a20>"
      ]
     },
     "metadata": {},
     "output_type": "display_data"
    }
   ],
   "source": [
    "a = runs.groupby([\"Trial\",\"Peer\"])[[\"Delay\"]].max()\n",
    "b = a.groupby([\"Trial\"])\n",
    "qs = np.linspace(0,1, num=10)\n",
    "c = b.quantile(qs).groupby(level=1)[[\"Delay\"]]\n",
    "\n",
    "plt.plot(qs, c.median())\n",
    "plt.plot(qs, c.max())\n",
    "plt.plot(qs, c.min())\n"
   ]
  },
  {
   "cell_type": "code",
   "execution_count": 103,
   "metadata": {},
   "outputs": [
    {
     "data": {
      "text/html": [
       "<div>\n",
       "<style>\n",
       "    .dataframe thead tr:only-child th {\n",
       "        text-align: right;\n",
       "    }\n",
       "\n",
       "    .dataframe thead th {\n",
       "        text-align: left;\n",
       "    }\n",
       "\n",
       "    .dataframe tbody tr th {\n",
       "        vertical-align: top;\n",
       "    }\n",
       "</style>\n",
       "<table border=\"1\" class=\"dataframe\">\n",
       "  <thead>\n",
       "    <tr>\n",
       "      <th></th>\n",
       "      <th colspan=\"8\" halign=\"left\">Delay</th>\n",
       "    </tr>\n",
       "    <tr>\n",
       "      <th></th>\n",
       "      <th>count</th>\n",
       "      <th>mean</th>\n",
       "      <th>std</th>\n",
       "      <th>min</th>\n",
       "      <th>25%</th>\n",
       "      <th>50%</th>\n",
       "      <th>75%</th>\n",
       "      <th>max</th>\n",
       "    </tr>\n",
       "  </thead>\n",
       "  <tbody>\n",
       "    <tr>\n",
       "      <th>0.000000</th>\n",
       "      <td>50.0</td>\n",
       "      <td>3985.920000</td>\n",
       "      <td>53.178114</td>\n",
       "      <td>3780.000000</td>\n",
       "      <td>4000.0</td>\n",
       "      <td>4000.0</td>\n",
       "      <td>4000.0</td>\n",
       "      <td>4082.000000</td>\n",
       "    </tr>\n",
       "    <tr>\n",
       "      <th>0.111111</th>\n",
       "      <td>50.0</td>\n",
       "      <td>3991.573333</td>\n",
       "      <td>51.379221</td>\n",
       "      <td>3797.777778</td>\n",
       "      <td>4000.0</td>\n",
       "      <td>4000.0</td>\n",
       "      <td>4000.0</td>\n",
       "      <td>4086.777778</td>\n",
       "    </tr>\n",
       "    <tr>\n",
       "      <th>0.222222</th>\n",
       "      <td>50.0</td>\n",
       "      <td>3997.226667</td>\n",
       "      <td>53.896951</td>\n",
       "      <td>3815.555556</td>\n",
       "      <td>4000.0</td>\n",
       "      <td>4000.0</td>\n",
       "      <td>4000.0</td>\n",
       "      <td>4117.333333</td>\n",
       "    </tr>\n",
       "    <tr>\n",
       "      <th>0.333333</th>\n",
       "      <td>50.0</td>\n",
       "      <td>4003.666667</td>\n",
       "      <td>53.913679</td>\n",
       "      <td>3873.333333</td>\n",
       "      <td>4000.0</td>\n",
       "      <td>4000.0</td>\n",
       "      <td>4000.0</td>\n",
       "      <td>4144.333333</td>\n",
       "    </tr>\n",
       "    <tr>\n",
       "      <th>0.444444</th>\n",
       "      <td>50.0</td>\n",
       "      <td>4010.368889</td>\n",
       "      <td>55.974752</td>\n",
       "      <td>3908.666667</td>\n",
       "      <td>4000.0</td>\n",
       "      <td>4000.0</td>\n",
       "      <td>4000.0</td>\n",
       "      <td>4160.777778</td>\n",
       "    </tr>\n",
       "    <tr>\n",
       "      <th>0.555556</th>\n",
       "      <td>50.0</td>\n",
       "      <td>4015.902222</td>\n",
       "      <td>61.138117</td>\n",
       "      <td>3911.555556</td>\n",
       "      <td>4000.0</td>\n",
       "      <td>4000.0</td>\n",
       "      <td>4000.0</td>\n",
       "      <td>4178.333333</td>\n",
       "    </tr>\n",
       "    <tr>\n",
       "      <th>0.666667</th>\n",
       "      <td>50.0</td>\n",
       "      <td>4020.266667</td>\n",
       "      <td>67.786948</td>\n",
       "      <td>3914.666667</td>\n",
       "      <td>4000.0</td>\n",
       "      <td>4000.0</td>\n",
       "      <td>4000.0</td>\n",
       "      <td>4213.000000</td>\n",
       "    </tr>\n",
       "    <tr>\n",
       "      <th>0.777778</th>\n",
       "      <td>50.0</td>\n",
       "      <td>4025.113333</td>\n",
       "      <td>75.474177</td>\n",
       "      <td>3924.333333</td>\n",
       "      <td>4000.0</td>\n",
       "      <td>4000.0</td>\n",
       "      <td>4000.0</td>\n",
       "      <td>4241.333333</td>\n",
       "    </tr>\n",
       "    <tr>\n",
       "      <th>0.888889</th>\n",
       "      <td>50.0</td>\n",
       "      <td>4031.406667</td>\n",
       "      <td>84.120163</td>\n",
       "      <td>3944.666667</td>\n",
       "      <td>4000.0</td>\n",
       "      <td>4000.0</td>\n",
       "      <td>4000.0</td>\n",
       "      <td>4250.666667</td>\n",
       "    </tr>\n",
       "    <tr>\n",
       "      <th>1.000000</th>\n",
       "      <td>50.0</td>\n",
       "      <td>4037.700000</td>\n",
       "      <td>94.757962</td>\n",
       "      <td>3946.000000</td>\n",
       "      <td>4000.0</td>\n",
       "      <td>4000.0</td>\n",
       "      <td>4000.0</td>\n",
       "      <td>4285.000000</td>\n",
       "    </tr>\n",
       "  </tbody>\n",
       "</table>\n",
       "</div>"
      ],
      "text/plain": [
       "         Delay                                                               \\\n",
       "         count         mean        std          min     25%     50%     75%   \n",
       "0.000000  50.0  3985.920000  53.178114  3780.000000  4000.0  4000.0  4000.0   \n",
       "0.111111  50.0  3991.573333  51.379221  3797.777778  4000.0  4000.0  4000.0   \n",
       "0.222222  50.0  3997.226667  53.896951  3815.555556  4000.0  4000.0  4000.0   \n",
       "0.333333  50.0  4003.666667  53.913679  3873.333333  4000.0  4000.0  4000.0   \n",
       "0.444444  50.0  4010.368889  55.974752  3908.666667  4000.0  4000.0  4000.0   \n",
       "0.555556  50.0  4015.902222  61.138117  3911.555556  4000.0  4000.0  4000.0   \n",
       "0.666667  50.0  4020.266667  67.786948  3914.666667  4000.0  4000.0  4000.0   \n",
       "0.777778  50.0  4025.113333  75.474177  3924.333333  4000.0  4000.0  4000.0   \n",
       "0.888889  50.0  4031.406667  84.120163  3944.666667  4000.0  4000.0  4000.0   \n",
       "1.000000  50.0  4037.700000  94.757962  3946.000000  4000.0  4000.0  4000.0   \n",
       "\n",
       "                       \n",
       "                  max  \n",
       "0.000000  4082.000000  \n",
       "0.111111  4086.777778  \n",
       "0.222222  4117.333333  \n",
       "0.333333  4144.333333  \n",
       "0.444444  4160.777778  \n",
       "0.555556  4178.333333  \n",
       "0.666667  4213.000000  \n",
       "0.777778  4241.333333  \n",
       "0.888889  4250.666667  \n",
       "1.000000  4285.000000  "
      ]
     },
     "execution_count": 103,
     "metadata": {},
     "output_type": "execute_result"
    }
   ],
   "source": [
    "c.describe()"
   ]
  },
  {
   "cell_type": "markdown",
   "metadata": {},
   "source": [
    "### Tx Progress vs NetDelay"
   ]
  },
  {
   "cell_type": "code",
   "execution_count": 31,
   "metadata": {},
   "outputs": [],
   "source": [
    "txRuns = []\n",
    "for file in glob.iglob(\"./data/txProgress.delay*.size*trial.*.csv\"):\n",
    "    trial = re.search(r\"trial\\.([0-9]+)\", file).group(1)\n",
    "    data = pd.read_csv(file)\n",
    "    data['Trial'] = int(trial)\n",
    "    txRuns.append(data)\n",
    "txRuns = pd.concat(txRuns, ignore_index = True)"
   ]
  },
  {
   "cell_type": "code",
   "execution_count": 104,
   "metadata": {},
   "outputs": [
    {
     "data": {
      "text/plain": [
       "[<matplotlib.lines.Line2D at 0x1d3c6b52cf8>]"
      ]
     },
     "execution_count": 104,
     "metadata": {},
     "output_type": "execute_result"
    },
    {
     "data": {
      "image/png": "[encoded data removed]",
      "text/plain": [
       "<matplotlib.figure.Figure at 0x1d3c6b05f98>"
      ]
     },
     "metadata": {},
     "output_type": "display_data"
    }
   ],
   "source": [
    "a = txRuns.groupby([\"Trial\",\"Peer\"])[[\"Delay\"]].max()\n",
    "b = a.groupby([\"Trial\"])\n",
    "qs = np.linspace(0,1, num=10)\n",
    "c = b.quantile(qs).groupby(level=1)[[\"Delay\"]]\n",
    "\n",
    "plt.plot(qs, c.median())\n",
    "plt.plot(qs, c.max())\n",
    "plt.plot(qs, c.min())\n"
   ]
  },
  {
   "cell_type": "markdown",
   "metadata": {},
   "source": [
    "### Branches"
   ]
  },
  {
   "cell_type": "code",
   "execution_count": 105,
   "metadata": {
    "collapsed": true
   },
   "outputs": [],
   "source": [
    "vRuns = []\n",
    "for file in glob.iglob(\"./data/validate.delay*.size*trial.*.csv\"):\n",
    "    trial = re.search(r\"trial\\.([0-9]+)\", file).group(1)\n",
    "    data = pd.read_csv(file)\n",
    "    data['Trial'] = int(trial)\n",
    "    vRuns.append(data)\n",
    "vRuns = pd.concat(vRuns, ignore_index = True)"
   ]
  },
  {
   "cell_type": "code",
   "execution_count": 108,
   "metadata": {},
   "outputs": [],
   "source": [
    "numValidate = vRuns.groupby([\"Trial\", \"Peer\", \"LedgerSeq\"]).count()"
   ]
  },
  {
   "cell_type": "code",
   "execution_count": 112,
   "metadata": {},
   "outputs": [
    {
     "data": {
      "text/plain": [
       "LedgerID    False\n",
       "dtype: bool"
      ]
     },
     "execution_count": 112,
     "metadata": {},
     "output_type": "execute_result"
    }
   ],
   "source": [
    "(numValidate != 1).any()"
   ]
  },
  {
   "cell_type": "code",
   "execution_count": 113,
   "metadata": {
    "collapsed": true
   },
   "outputs": [],
   "source": [
    "aRuns = []\n",
    "for file in glob.iglob(\"./data/accept.delay*.size*trial.*.csv\"):\n",
    "    trial = re.search(r\"trial\\.([0-9]+)\", file).group(1)\n",
    "    data = pd.read_csv(file)\n",
    "    data['Trial'] = int(trial)\n",
    "    aRuns.append(data)\n",
    "aRuns = pd.concat(aRuns, ignore_index = True)"
   ]
  },
  {
   "cell_type": "code",
   "execution_count": 120,
   "metadata": {},
   "outputs": [],
   "source": [
    "numAccept = aRuns.groupby([\"Trial\", \"Peer\", \"LedgerSeq\"]).agg(['count'])"
   ]
  },
  {
   "cell_type": "code",
   "execution_count": 123,
   "metadata": {},
   "outputs": [
    {
     "data": {
      "text/plain": [
       "<matplotlib.axes._subplots.AxesSubplot at 0x1d3c6cda400>"
      ]
     },
     "execution_count": 123,
     "metadata": {},
     "output_type": "execute_result"
    },
    {
     "data": {
      "image/png": "[encoded data removed]",
      "text/plain": [
       "<matplotlib.figure.Figure at 0x1d3c6cb1470>"
      ]
     },
     "metadata": {},
     "output_type": "display_data"
    }
   ],
   "source": [
    "numAccept.plot()"
   ]
  },
  {
   "cell_type": "code",
   "execution_count": 127,
   "metadata": {},
   "outputs": [
    {
     "data": {
      "text/plain": [
       "<matplotlib.axes._subplots.AxesSubplot at 0x1d3c6a86198>"
      ]
     },
     "execution_count": 127,
     "metadata": {},
     "output_type": "execute_result"
    },
    {
     "data": {
      "image/png": "[encoded data removed]",
      "text/plain": [
       "<matplotlib.figure.Figure at 0x1d3c6be13c8>"
      ]
     },
     "metadata": {},
     "output_type": "display_data"
    }
   ],
   "source": [
    "aRuns.groupby([\"Trial\", \"Peer\"])[[\"LedgerSeq\"]].diff().plot()"
   ]
  },
  {
   "cell_type": "code",
   "execution_count": null,
   "metadata": {
    "collapsed": true
   },
   "outputs": [],
   "source": []
  }
 ],
 "metadata": {
  "anaconda-cloud": {},
  "kernelspec": {
   "display_name": "Python 3",
   "language": "python",
   "name": "python3"
  },
  "language_info": {
   "codemirror_mode": {
    "name": "ipython",
    "version": 3
   },
   "file_extension": ".py",
   "mimetype": "text/x-python",
   "name": "python",
   "nbconvert_exporter": "python",
   "pygments_lexer": "ipython3",
   "version": "3.6.2"
  }
 },
 "nbformat": 4,
 "nbformat_minor": 1
}
